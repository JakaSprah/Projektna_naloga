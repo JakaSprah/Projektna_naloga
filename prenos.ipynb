{
 "cells": [
  {
   "cell_type": "code",
   "execution_count": 1,
   "metadata": {},
   "outputs": [],
   "source": [
    "import csv\n",
    "import os\n",
    "import requests"
   ]
  },
  {
   "cell_type": "code",
   "execution_count": 2,
   "metadata": {},
   "outputs": [],
   "source": [
    "import traceback\n",
    "\n",
    "\n",
    "def download_url_to_string(url):\n",
    "    try:\n",
    "        HEADERS = {'User-Agent': 'Mozilla/5.0 (iPad; CPU OS 12_2 like Mac OS X) AppleWebKit/605.1.15 (KHTML, like Gecko) Mobile/15E148'}\n",
    "        page_content = requests.get(url, headers=HEADERS)\n",
    "        if page_content.status_code == 200:\n",
    "            return page_content.text\n",
    "        else:\n",
    "            raise ValueError(f\"Čudna koda: {page_content.status_code}\")\n",
    "    except Exception:\n",
    "        print(f\"Prišlo je do spodnje napake:\\n{traceback.format_exc()}\")\n",
    "\n",
    "\n",
    "def save_string_to_file(text, directory, filename):\n",
    "    os.makedirs(directory, exist_ok=True)\n",
    "    path = os.path.join(directory, filename)\n",
    "    with open(path, 'w', encoding='utf-8') as file_out:\n",
    "        file_out.write(text)\n",
    "    return None"
   ]
  },
  {
   "cell_type": "code",
   "execution_count": 3,
   "metadata": {},
   "outputs": [],
   "source": [
    "def save_frontpage(page, directory, filename):\n",
    "    html_strani = download_url_to_string(page)\n",
    "    save_string_to_file(html_strani, directory, filename)\n"
   ]
  },
  {
   "cell_type": "code",
   "execution_count": 6,
   "metadata": {},
   "outputs": [],
   "source": [
    "tek_directory = 'podatki'\n",
    "\n",
    "def url(indeks):\n",
    "    igre = {}\n",
    "    igre[0] = 'https://olympics.com/en/olympic-games/rio-2016/results/athletics/marathon-men'\n",
    "    igre[1] = 'https://olympics.com/en/olympic-games/london-2012/results/athletics/marathon-men'\n",
    "    igre[2] = 'https://olympics.com/en/olympic-games/beijing-2008/results/athletics/marathon-men'\n",
    "    igre[3] = 'https://olympics.com/en/olympic-games/athens-2004/results/athletics/marathon-men'\n",
    "    igre[4] = 'https://olympics.com/en/olympic-games/sydney-2000/results/athletics/marathon-men'\n",
    "    return igre[indeks]\n",
    "\n",
    "def ime(indeks):\n",
    "    return f'tek{indeks}'\n",
    "\n",
    "for i in range(5):\n",
    "    save_frontpage(url(i), tek_directory, ime(i))"
   ]
  }
 ],
 "metadata": {
  "kernelspec": {
   "display_name": "Python 3",
   "language": "python",
   "name": "python3"
  },
  "language_info": {
   "codemirror_mode": {
    "name": "ipython",
    "version": 3
   },
   "file_extension": ".py",
   "mimetype": "text/x-python",
   "name": "python",
   "nbconvert_exporter": "python",
   "pygments_lexer": "ipython3",
   "version": "3.11.2"
  },
  "orig_nbformat": 4
 },
 "nbformat": 4,
 "nbformat_minor": 2
}
