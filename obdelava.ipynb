{
 "cells": [
  {
   "cell_type": "code",
   "execution_count": 46,
   "metadata": {},
   "outputs": [],
   "source": [
    "import re\n",
    "import os\n",
    "import csv"
   ]
  },
  {
   "cell_type": "code",
   "execution_count": 47,
   "metadata": {},
   "outputs": [],
   "source": [
    "csv_filename = 'tek.csv'\n",
    "tek_directory = 'podatki'"
   ]
  },
  {
   "cell_type": "code",
   "execution_count": 48,
   "metadata": {},
   "outputs": [],
   "source": [
    "def read_file_to_string(directory, filename):\n",
    "    path = os.path.join(directory, filename)\n",
    "    print(path)\n",
    "    with open(path, 'r', encoding='utf-8') as f:\n",
    "        return f.read()"
   ]
  },
  {
   "cell_type": "code",
   "execution_count": 49,
   "metadata": {},
   "outputs": [],
   "source": [
    "def page_to_ads(page_content):\n",
    "    vzorec = r'{\"__typename\":\"ParticipantResult\".+?\"triLetterCode\":\"...\"}}},'\n",
    "    return re.findall(vzorec, page_content, flags=re.DOTALL)"
   ]
  },
  {
   "cell_type": "code",
   "execution_count": 50,
   "metadata": {},
   "outputs": [],
   "source": [
    "def get_dict_from_ad_block(block):\n",
    "    vzorec_mesto = r'\"order\":(.+?),\"position\":'\n",
    "    vzorec_ime = r'{\"__typename\":\"Athlete\",\"name\":\"([\\w -\\.]+?)\",\"surname\"'\n",
    "    vzorec_priimek = r',\"surname\":\"([\\w -\\.]+?)\",\"thumbnail'\n",
    "    vzorec_cas = r'\"type\":\"TIME\",\"unit\":\"([\\d.:]+?)\"},\"'\n",
    "    vzorec_drzava = r'{\"__typename\":\"Country\",\"name\":\"([\\w -\\.]+?)\",\"code\"'\n",
    "    try:\n",
    "        mesto = re.search(vzorec_mesto, block).group(1)\n",
    "        ime = re.search(vzorec_ime, block).group(1)\n",
    "        priimek = re.search(vzorec_priimek, block).group(1)\n",
    "        drzava = re.search(vzorec_drzava, block).group(1)\n",
    "    except AttributeError:\n",
    "        print(f\"Nepopolni vzorci pri (čudnem?) oglasu\\n{block}\")\n",
    "        raise\n",
    "    try:\n",
    "        cas = re.search(vzorec_cas, block).group(1)\n",
    "        cas = cas[1:8]\n",
    "    except AttributeError:\n",
    "        cas = None\n",
    "    def pretvorba(cas):\n",
    "        ure = int(cas[0])\n",
    "        minute = int(cas[2:4])\n",
    "        sekunde = int(cas[5:7])\n",
    "        return 3600 * ure + 60 * minute + sekunde\n",
    "    sekunde = pretvorba(cas)\n",
    "    return {\"Mesto\": mesto, \"Ime\": ime, \"Priimek\": priimek, \"Čas\": cas, \"Sekunde\": sekunde, \n",
    "    \"Država\": drzava}"
   ]
  },
  {
   "cell_type": "code",
   "execution_count": 51,
   "metadata": {},
   "outputs": [],
   "source": [
    "def ads_from_file(filename, directory):\n",
    "    vsebina = read_file_to_string(directory, filename)\n",
    "    rezultati = page_to_ads(vsebina)\n",
    "    rezultati_prvih_50 = rezultati[:50]\n",
    "    slovarji = []\n",
    "    for rezultat in rezultati_prvih_50:\n",
    "        slovarji.append(get_dict_from_ad_block(rezultat))\n",
    "    return slovarji"
   ]
  },
  {
   "cell_type": "code",
   "execution_count": 52,
   "metadata": {},
   "outputs": [],
   "source": [
    "def write_csv(fieldnames, rows, directory, filename):\n",
    "    os.makedirs(directory, exist_ok=True)\n",
    "    path = os.path.join(directory, filename)\n",
    "    with open(path, 'w', encoding='utf-8', newline='') as csv_file:\n",
    "        writer = csv.DictWriter(csv_file, fieldnames=fieldnames)\n",
    "        writer.writeheader()\n",
    "        for row in rows:\n",
    "            writer.writerow(row)\n",
    "    return"
   ]
  },
  {
   "cell_type": "code",
   "execution_count": 53,
   "metadata": {},
   "outputs": [],
   "source": [
    "def write_results_to_csv(ads, directory, filename):\n",
    "    assert ads and (all(slovar.keys() == ads[0].keys() for slovar in ads))\n",
    "    imena_stolpcev = (ads[0])\n",
    "    write_csv(imena_stolpcev, ads, directory, filename)"
   ]
  },
  {
   "cell_type": "code",
   "execution_count": 54,
   "metadata": {},
   "outputs": [
    {
     "name": "stdout",
     "output_type": "stream",
     "text": [
      "podatki\\tek0\n",
      "podatki\\tek1\n",
      "podatki\\tek2\n",
      "podatki\\tek3\n",
      "podatki\\tek4\n"
     ]
    }
   ],
   "source": [
    "for i in range(5):\n",
    "    if i == 0:\n",
    "        vsi_slovarji = []\n",
    "        seznam = ads_from_file('tek0', tek_directory)\n",
    "        for j in range(50):\n",
    "            seznam[j]['Leto'] = 2016\n",
    "        vsi_slovarji += seznam\n",
    "    if i == 1:\n",
    "        seznam = ads_from_file('tek1', tek_directory)\n",
    "        for j in range(50):\n",
    "            seznam[j]['Leto'] = 2012\n",
    "        vsi_slovarji += seznam\n",
    "    if i == 2:\n",
    "        seznam = ads_from_file('tek2', tek_directory)\n",
    "        for j in range(50):\n",
    "            seznam[j]['Leto'] = 2008\n",
    "        vsi_slovarji += seznam\n",
    "    if i == 3:\n",
    "        seznam = ads_from_file('tek3', tek_directory)\n",
    "        for j in range(50):\n",
    "            seznam[j]['Leto'] = 2004\n",
    "        vsi_slovarji += seznam\n",
    "    if i == 4:\n",
    "        seznam = ads_from_file('tek4', tek_directory)\n",
    "        for j in range(50):\n",
    "            seznam[j]['Leto'] = 2000\n",
    "        vsi_slovarji += seznam"
   ]
  },
  {
   "cell_type": "code",
   "execution_count": 55,
   "metadata": {},
   "outputs": [],
   "source": [
    "write_results_to_csv(vsi_slovarji, \"obdelani_podatki\", csv_filename)"
   ]
  }
 ],
 "metadata": {
  "kernelspec": {
   "display_name": "Python 3",
   "language": "python",
   "name": "python3"
  },
  "language_info": {
   "codemirror_mode": {
    "name": "ipython",
    "version": 3
   },
   "file_extension": ".py",
   "mimetype": "text/x-python",
   "name": "python",
   "nbconvert_exporter": "python",
   "pygments_lexer": "ipython3",
   "version": "3.11.2"
  },
  "orig_nbformat": 4
 },
 "nbformat": 4,
 "nbformat_minor": 2
}
